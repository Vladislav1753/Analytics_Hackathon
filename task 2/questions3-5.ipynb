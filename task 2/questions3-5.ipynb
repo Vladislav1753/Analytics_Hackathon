{
 "cells": [
  {
   "cell_type": "code",
   "execution_count": 1,
   "id": "initial_id",
   "metadata": {
    "collapsed": true,
    "ExecuteTime": {
     "end_time": "2024-04-29T17:53:08.376361500Z",
     "start_time": "2024-04-29T17:53:06.860381300Z"
    }
   },
   "outputs": [],
   "source": [
    "# import necessary libraries\n",
    "import pandas as pd\n",
    "\n",
    "from config import pizza_types_path, pizzas_path, orders_path, order_details_path"
   ]
  },
  {
   "cell_type": "code",
   "execution_count": 2,
   "outputs": [],
   "source": [
    "orders = pd.read_csv(orders_path, encoding='windows-1251', parse_dates=['date'])\n",
    "\n",
    "orders['month'] = orders['date'].dt.month\n",
    "orders['season'] = orders['date'].dt.quarter"
   ],
   "metadata": {
    "collapsed": false,
    "ExecuteTime": {
     "end_time": "2024-04-29T17:53:08.413483300Z",
     "start_time": "2024-04-29T17:53:08.375358Z"
    }
   },
   "id": "9929cab9bca9dc"
  },
  {
   "cell_type": "code",
   "execution_count": 3,
   "outputs": [
    {
     "name": "stderr",
     "output_type": "stream",
     "text": [
      "C:\\Users\\Владислав\\AppData\\Local\\Temp\\ipykernel_27876\\1751465610.py:1: UserWarning: Could not infer format, so each element will be parsed individually, falling back to `dateutil`. To ensure parsing is consistent and as-expected, please specify a format.\n",
      "  orders['time'] = pd.to_datetime(orders['time'])\n"
     ]
    }
   ],
   "source": [
    "orders['time'] = pd.to_datetime(orders['time'])\n",
    "\n",
    "orders['time'] = orders['time'].apply(lambda x: x.replace(minute=0, second=0))"
   ],
   "metadata": {
    "collapsed": false,
    "ExecuteTime": {
     "end_time": "2024-04-29T17:53:08.800795900Z",
     "start_time": "2024-04-29T17:53:08.411477600Z"
    }
   },
   "id": "9d9f6a776efbe995"
  },
  {
   "cell_type": "code",
   "execution_count": 4,
   "outputs": [
    {
     "data": {
      "text/plain": "time\n2024-04-29 09:00:00       1\n2024-04-29 10:00:00       8\n2024-04-29 11:00:00    1231\n2024-04-29 12:00:00    2520\n2024-04-29 13:00:00    2455\n2024-04-29 14:00:00    1472\n2024-04-29 15:00:00    1468\n2024-04-29 16:00:00    1920\n2024-04-29 17:00:00    2336\n2024-04-29 18:00:00    2399\n2024-04-29 19:00:00    2009\n2024-04-29 20:00:00    1642\n2024-04-29 21:00:00    1198\n2024-04-29 22:00:00     663\n2024-04-29 23:00:00      28\nName: order_id, dtype: int64"
     },
     "execution_count": 4,
     "metadata": {},
     "output_type": "execute_result"
    }
   ],
   "source": [
    "# QUESTION 3\n",
    "\n",
    "orders.groupby('time')['order_id'].count()\n",
    "\n",
    "# As we can see, peak hours for the restaurant are from 13 to 15 hours and between 17 and 19 hours\n",
    "# It's logical, because in average people have lunch/dinner at that time"
   ],
   "metadata": {
    "collapsed": false,
    "ExecuteTime": {
     "end_time": "2024-04-29T17:53:08.806969100Z",
     "start_time": "2024-04-29T17:53:08.796796600Z"
    }
   },
   "id": "6a0e2bf53b766332"
  },
  {
   "cell_type": "code",
   "execution_count": 5,
   "outputs": [],
   "source": [
    "month_names = {\n",
    "    1: 'January',\n",
    "    2: 'February',\n",
    "    3: 'March',\n",
    "    4: 'April',\n",
    "    5: 'May',\n",
    "    6: 'June',\n",
    "    7: 'July',\n",
    "    8: 'August',\n",
    "    9: 'September',\n",
    "    10: 'October',\n",
    "    11: 'November',\n",
    "    12: 'December'\n",
    "}\n",
    "\n",
    "season_names = {\n",
    "    1: 'Winter',\n",
    "    2: 'Spring',\n",
    "    3: 'Summer',\n",
    "    4: 'Autumn'\n",
    "}\n",
    "\n",
    "orders['month'] = orders['month'].map(month_names)\n",
    "orders['season'] = orders['season'].map(season_names)"
   ],
   "metadata": {
    "collapsed": false,
    "ExecuteTime": {
     "end_time": "2024-04-29T17:53:08.814948500Z",
     "start_time": "2024-04-29T17:53:08.807973800Z"
    }
   },
   "id": "44753ee68a14b571"
  },
  {
   "cell_type": "code",
   "execution_count": 6,
   "outputs": [
    {
     "data": {
      "text/plain": "season\nAutumn    5118\nSpring    5425\nSummer    5437\nWinter    5370\nName: order_id, dtype: int64"
     },
     "execution_count": 6,
     "metadata": {},
     "output_type": "execute_result"
    }
   ],
   "source": [
    "# QUESTION 4\n",
    "\n",
    "orders.groupby('season')['order_id'].count()\n",
    "\n",
    "# Orders are highest in the summer and spring, and lowest in the autumn\n",
    "# thus there is a light correlation "
   ],
   "metadata": {
    "collapsed": false,
    "ExecuteTime": {
     "end_time": "2024-04-29T17:53:08.823367200Z",
     "start_time": "2024-04-29T17:53:08.815949600Z"
    }
   },
   "id": "9aaf2e27c84c4cfe"
  },
  {
   "cell_type": "code",
   "execution_count": 7,
   "outputs": [
    {
     "data": {
      "text/plain": "month\nApril        1799\nAugust       1841\nDecember     1680\nFebruary     1685\nJanuary      1845\nJuly         1935\nJune         1773\nMarch        1840\nMay          1853\nNovember     1792\nOctober      1646\nSeptember    1661\nName: order_id, dtype: int64"
     },
     "execution_count": 7,
     "metadata": {},
     "output_type": "execute_result"
    }
   ],
   "source": [
    "orders.groupby('month')['order_id'].count()\n",
    "\n",
    "# If we look at months, most orders occur in July, May and January\n",
    "# Hard to make a clear conclusion, but in average during warm month (Spring and Summer) more orders take place"
   ],
   "metadata": {
    "collapsed": false,
    "ExecuteTime": {
     "end_time": "2024-04-29T17:53:08.831367800Z",
     "start_time": "2024-04-29T17:53:08.822371700Z"
    }
   },
   "id": "27aa2b463c3f9776"
  },
  {
   "cell_type": "code",
   "execution_count": 8,
   "outputs": [],
   "source": [
    "order_details = pd.read_csv(order_details_path, encoding='windows-1251',)"
   ],
   "metadata": {
    "collapsed": false,
    "ExecuteTime": {
     "end_time": "2024-04-29T17:53:08.880159500Z",
     "start_time": "2024-04-29T17:53:08.830367400Z"
    }
   },
   "id": "8e48c9275d8b144c"
  },
  {
   "cell_type": "code",
   "execution_count": 9,
   "outputs": [
    {
     "data": {
      "text/plain": "   order_details_id  order_id       pizza_id  quantity\n0                 1         1     hawaiian_m         1\n1                 2         2  classic_dlx_m         1\n2                 3         2  five_cheese_l         1\n3                 4         2    ital_supr_l         1\n4                 5         2     mexicana_m         1",
      "text/html": "<div>\n<style scoped>\n    .dataframe tbody tr th:only-of-type {\n        vertical-align: middle;\n    }\n\n    .dataframe tbody tr th {\n        vertical-align: top;\n    }\n\n    .dataframe thead th {\n        text-align: right;\n    }\n</style>\n<table border=\"1\" class=\"dataframe\">\n  <thead>\n    <tr style=\"text-align: right;\">\n      <th></th>\n      <th>order_details_id</th>\n      <th>order_id</th>\n      <th>pizza_id</th>\n      <th>quantity</th>\n    </tr>\n  </thead>\n  <tbody>\n    <tr>\n      <th>0</th>\n      <td>1</td>\n      <td>1</td>\n      <td>hawaiian_m</td>\n      <td>1</td>\n    </tr>\n    <tr>\n      <th>1</th>\n      <td>2</td>\n      <td>2</td>\n      <td>classic_dlx_m</td>\n      <td>1</td>\n    </tr>\n    <tr>\n      <th>2</th>\n      <td>3</td>\n      <td>2</td>\n      <td>five_cheese_l</td>\n      <td>1</td>\n    </tr>\n    <tr>\n      <th>3</th>\n      <td>4</td>\n      <td>2</td>\n      <td>ital_supr_l</td>\n      <td>1</td>\n    </tr>\n    <tr>\n      <th>4</th>\n      <td>5</td>\n      <td>2</td>\n      <td>mexicana_m</td>\n      <td>1</td>\n    </tr>\n  </tbody>\n</table>\n</div>"
     },
     "execution_count": 9,
     "metadata": {},
     "output_type": "execute_result"
    }
   ],
   "source": [
    "order_details.head()"
   ],
   "metadata": {
    "collapsed": false,
    "ExecuteTime": {
     "end_time": "2024-04-29T17:53:08.907437800Z",
     "start_time": "2024-04-29T17:53:08.866157200Z"
    }
   },
   "id": "63074d4182244ba"
  },
  {
   "cell_type": "code",
   "execution_count": 15,
   "outputs": [
    {
     "data": {
      "text/plain": "pizza_id\nthe_greek_xxl       28\ngreen_garden_l      95\nckn_alfredo_s       96\ncalabrese_s         99\nmexicana_s         162\n                  ... \nclassic_dlx_m     1181\nfour_cheese_l     1316\nfive_cheese_l     1409\nthai_ckn_l        1410\nbig_meat_s        1914\nName: quantity, Length: 91, dtype: int64"
     },
     "execution_count": 15,
     "metadata": {},
     "output_type": "execute_result"
    }
   ],
   "source": [
    "# QUESTION 5\n",
    "\n",
    "grouped_data = order_details.groupby('pizza_id')['quantity'].sum()\n",
    "\n",
    "sorted_data = grouped_data.sort_values(ascending=True)\n",
    "\n",
    "sorted_data\n",
    "\n",
    "# As we can see, there are some pizzas that are ordered quite rarely\n",
    "# 'the_greek_xxl', 'green_garden_l', 'ckn_alfredo_s', 'calabrese_s'\n",
    "# Thus, company can remove this positions from the menu because of their unpopularity"
   ],
   "metadata": {
    "collapsed": false,
    "ExecuteTime": {
     "end_time": "2024-04-29T17:57:57.835288200Z",
     "start_time": "2024-04-29T17:57:57.822390200Z"
    }
   },
   "id": "678d606f969d29dc"
  }
 ],
 "metadata": {
  "kernelspec": {
   "display_name": "Python 3",
   "language": "python",
   "name": "python3"
  },
  "language_info": {
   "codemirror_mode": {
    "name": "ipython",
    "version": 2
   },
   "file_extension": ".py",
   "mimetype": "text/x-python",
   "name": "python",
   "nbconvert_exporter": "python",
   "pygments_lexer": "ipython2",
   "version": "2.7.6"
  }
 },
 "nbformat": 4,
 "nbformat_minor": 5
}
